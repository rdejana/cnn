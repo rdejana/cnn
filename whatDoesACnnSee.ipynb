{
 "cells": [
  {
   "cell_type": "code",
   "execution_count": null,
   "metadata": {},
   "outputs": [],
   "source": [
    "!pip3 install torch torchvision torchaudio matplotlib pillow"
   ]
  },
  {
   "cell_type": "code",
   "execution_count": null,
   "metadata": {
    "pycharm": {
     "name": "#%%\n"
    }
   },
   "outputs": [],
   "source": [
    "%matplotlib inline\n",
    "from matplotlib import pyplot as plt\n",
    "\n",
    "import numpy as np\n",
    "import collections\n",
    "\n",
    "import torch\n",
    "import torch.nn as nn\n",
    "import torch.nn.functional as F\n",
    "import torch.optim as optim\n",
    "from torchvision import transforms\n",
    "from PIL import Image\n",
    "\n",
    "\n",
    "from torchvision import models\n",
    "import torch.nn as nn"
   ]
  },
  {
   "cell_type": "code",
   "execution_count": null,
   "metadata": {
    "pycharm": {
     "name": "#%%\n"
    }
   },
   "outputs": [],
   "source": [
    "myModel = models.mobilenet_v3_large(pretrained=True)\n",
    "myConv2d = None\n",
    "\n",
    "for name, module in myModel.named_modules():\n",
    "    if isinstance(module, nn.Conv2d):\n",
    "        print(name, module.kernel_size)\n",
    "        myConv2d = module\n",
    "        # print(r)\n",
    "        # print(module.weight)\n",
    "        break"
   ]
  },
  {
   "cell_type": "code",
   "execution_count": null,
   "metadata": {
    "pycharm": {
     "name": "#%%\n"
    }
   },
   "outputs": [],
   "source": [
    "preprocess = transforms.Compose([\n",
    "        transforms.Resize(256),\n",
    "        transforms.CenterCrop(224),\n",
    "        transforms.ToTensor(),\n",
    "        transforms.Normalize(\n",
    "            mean=[0.485, 0.456, 0.406],\n",
    "            std=[0.229, 0.224, 0.225]\n",
    "        )])\n",
    "\n",
    "\n",
    "preprocess2 = transforms.Compose([\n",
    "        # transforms.Resize(256),\n",
    "        # transforms.CenterCrop(224),\n",
    "        transforms.ToTensor()\n",
    "        ])\n",
    "\n",
    "def normalize(data):\n",
    "    return (data - np.min(data)) / (np.max(data) - np.min(data))\n",
    "\n",
    "def display_image(out):\n",
    "    plt.imshow(out[0, 0].detach(),cmap='gray')\n",
    "    plt.show()\n",
    "\n",
    "    plt.imshow(out[0, 1].detach(),cmap='gray')\n",
    "    plt.show()\n",
    "\n",
    "    plt.imshow(out[0, 2].detach(),cmap='gray')\n",
    "    plt.show()\n",
    "\n",
    "    plt.imshow(out[0, 3].detach(),cmap='gray')\n",
    "    plt.show()\n",
    "\n",
    "    plt.imshow(out[0, 4].detach(),cmap='gray')\n",
    "    plt.show()\n",
    "\n",
    "    plt.imshow(out[0, 5].detach(),cmap='gray')\n",
    "    plt.show()\n",
    "\n",
    "    plt.imshow(out[0, 6].detach(),cmap='gray')\n",
    "    plt.show()\n",
    "\n",
    "    plt.imshow(out[0, 6].detach(),cmap='gray')\n",
    "    plt.show()\n",
    "\n",
    "    plt.imshow(out[0, 7].detach(),cmap='gray')\n",
    "    plt.show()\n",
    "\n",
    "    plt.imshow(out[0, 8].detach(),cmap='gray')\n",
    "    plt.show()\n",
    "\n",
    "    plt.imshow(out[0, 9].detach(),cmap='gray')\n",
    "    plt.show()\n",
    "\n",
    "    plt.imshow(out[0, 10].detach(),cmap='gray')\n",
    "    plt.show()\n",
    "\n",
    "    plt.imshow(out[0, 11].detach(),cmap='gray')\n",
    "    plt.show()\n",
    "\n",
    "    plt.imshow(out[0, 12].detach(),cmap='gray')\n",
    "    plt.show()\n",
    "\n",
    "    plt.imshow(out[0, 13].detach(),cmap='gray')\n",
    "    plt.show()\n",
    "\n",
    "    plt.imshow(out[0, 14].detach(),cmap='gray')\n",
    "    plt.show()\n",
    "\n",
    "\n",
    "    plt.imshow(out[0, 15].detach(),cmap='gray')\n",
    "    plt.show()"
   ]
  },
  {
   "cell_type": "code",
   "execution_count": null,
   "metadata": {
    "pycharm": {
     "name": "#%%\n"
    }
   },
   "outputs": [],
   "source": [
    "\n",
    "conv = nn.Conv2d(3, 16, kernel_size=3) # <1>\n",
    "with torch.no_grad():\n",
    "    conv.bias.zero_()\n",
    "\n",
    "with torch.no_grad():\n",
    "    conv.weight.fill_(1.0 / 9.0)\n"
   ]
  },
  {
   "cell_type": "code",
   "execution_count": null,
   "metadata": {
    "pycharm": {
     "name": "#%%\n"
    }
   },
   "outputs": [],
   "source": [
    "fileName = \"data/bobby.jpeg\"\n",
    "# img = imageio.imread(fileName)\n",
    "img = Image.open(fileName)\n",
    "\n",
    "print(np.shape(img))\n",
    "plt.imshow(img)\n",
    "plt.show()\n",
    "\n",
    "img_t = preprocess(img)\n",
    "img_t2 = preprocess2(img)\n",
    "\n",
    "\n",
    "print(img_t.shape)\n",
    "print(img_t2.shape)"
   ]
  },
  {
   "cell_type": "code",
   "execution_count": null,
   "metadata": {
    "pycharm": {
     "name": "#%%\n"
    }
   },
   "outputs": [],
   "source": [
    "output = myConv2d(img_t.unsqueeze(0))\n",
    "output2 = myConv2d(img_t2.unsqueeze(0))\n",
    "\n",
    "print(output.shape)\n",
    "print(output2.shape)"
   ]
  },
  {
   "cell_type": "code",
   "execution_count": null,
   "metadata": {
    "pycharm": {
     "name": "#%%\n"
    }
   },
   "outputs": [],
   "source": [
    "display_image(output)\n",
    "\n",
    "\n",
    "\n",
    "\n"
   ]
  },
  {
   "cell_type": "markdown",
   "metadata": {
    "pycharm": {
     "name": "#%% md\n"
    }
   },
   "source": []
  },
  {
   "cell_type": "code",
   "execution_count": null,
   "metadata": {
    "pycharm": {
     "name": "#%%\n"
    }
   },
   "outputs": [],
   "source": [
    "display_image(output2)"
   ]
  },
  {
   "cell_type": "code",
   "execution_count": null,
   "metadata": {
    "pycharm": {
     "name": "#%%\n"
    }
   },
   "outputs": [],
   "source": []
  }
 ],
 "metadata": {
  "kernelspec": {
   "display_name": "Python 3 (ipykernel)",
   "language": "python",
   "name": "python3"
  },
  "language_info": {
   "codemirror_mode": {
    "name": "ipython",
    "version": 3
   },
   "file_extension": ".py",
   "mimetype": "text/x-python",
   "name": "python",
   "nbconvert_exporter": "python",
   "pygments_lexer": "ipython3",
   "version": "3.9.6"
  }
 },
 "nbformat": 4,
 "nbformat_minor": 1
}